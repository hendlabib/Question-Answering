{
 "cells": [
  {
   "cell_type": "markdown",
   "metadata": {},
   "source": [
    "## Wikipedia scrapping by using wikipediAPI \n",
    "\n"
   ]
  },
  {
   "cell_type": "code",
   "execution_count": 1,
   "metadata": {},
   "outputs": [],
   "source": [
    "import wikipediaapi\n",
    "wiki_wiki = wikipediaapi.Wikipedia('en')\n",
    "import pandas as pd"
   ]
  },
  {
   "cell_type": "markdown",
   "metadata": {},
   "source": [
    "### Get all Peges that related to the given category"
   ]
  },
  {
   "cell_type": "code",
   "execution_count": 2,
   "metadata": {
    "scrolled": false
   },
   "outputs": [],
   "source": [
    "pages = []\n",
    "\n",
    "def print_categorymembers(categorymembers, level=0, max_level=1):\n",
    "        for c in categorymembers.values():\n",
    "            x = (\"%s: %s (ns: %d)\" % ((level + 1), c.title, c.ns))            \n",
    "            pages.append(x)\n",
    "            if c.ns == wikipediaapi.Namespace.CATEGORY and level < max_level:\n",
    "                 print_categorymembers(c.categorymembers, level=level + 1, max_level=max_level)\n",
    "\n",
    "\n",
    "cat = wiki_wiki.page(\"Category:Human activities\")\n",
    "\n",
    "print_categorymembers(cat.categorymembers)\n",
    "\n",
    "# Category members: Category:Physics\n",
    "# * Statistical mechanics (ns: 0)\n",
    "# * Category:Physical quantities (ns: 14)\n",
    "# ** Refractive index (ns: 0)\n",
    "# ** Vapor quality (ns: 0)\n",
    "# ** Electric susceptibility (ns: 0)\n",
    "# ** Specific weight (ns: 0)\n",
    "# ** Category:Viscosity (ns: 14)\n",
    "# *** Brookfield Engineering (ns: 0)"
   ]
  },
  {
   "cell_type": "markdown",
   "metadata": {},
   "source": [
    "### Cleaning the output from unnecessary charcaters!"
   ]
  },
  {
   "cell_type": "code",
   "execution_count": 75,
   "metadata": {},
   "outputs": [],
   "source": [
    "# clean from \"categories pages\" and repeted\n",
    "clean = list(set([i[3:] for i in pages if not ('14' in i or '4' in i)]))"
   ]
  },
  {
   "cell_type": "code",
   "execution_count": 86,
   "metadata": {},
   "outputs": [],
   "source": [
    "# delete unnecessary character from all string (clean it)\n",
    "pages = [i.replace('(ns: 0)', '').rstrip() for i in clean ]"
   ]
  },
  {
   "cell_type": "markdown",
   "metadata": {},
   "source": [
    "### Pass the list (pages) to second function to get the information for all pages!"
   ]
  },
  {
   "cell_type": "code",
   "execution_count": 106,
   "metadata": {},
   "outputs": [],
   "source": [
    "pages_full_summary = []\n",
    "\n",
    "for page in pages:\n",
    "    page_py = wiki_wiki.page(page)\n",
    "    pages_full_summary.append(page_py.summary)\n"
   ]
  },
  {
   "cell_type": "markdown",
   "metadata": {},
   "source": [
    "### This is just  a juess that the answer will be the first statment of the summary (context)"
   ]
  },
  {
   "cell_type": "code",
   "execution_count": 6,
   "metadata": {},
   "outputs": [],
   "source": [
    "pages_part_summary = []\n",
    "\n",
    "for summary in pages_full_summary:\n",
    "    \n",
    "    pages_part_summary.append(summary.split(\".\")[0])"
   ]
  },
  {
   "cell_type": "markdown",
   "metadata": {},
   "source": [
    "### Reformat the name of pages to make it like a question! "
   ]
  },
  {
   "cell_type": "code",
   "execution_count": 3,
   "metadata": {},
   "outputs": [],
   "source": [
    "pages = [ \"What is \" + s + \" ? \" for s in pages ]"
   ]
  },
  {
   "cell_type": "code",
   "execution_count": 4,
   "metadata": {},
   "outputs": [],
   "source": [
    "questions = pages.copy()\n",
    "context = pages_full_summary.copy()\n",
    "answers = pages_part_summary.copy()"
   ]
  },
  {
   "cell_type": "markdown",
   "metadata": {},
   "source": [
    "### Put all lists into csv"
   ]
  },
  {
   "cell_type": "code",
   "execution_count": null,
   "metadata": {},
   "outputs": [],
   "source": [
    "col = [\"context\", \"questions\", \"answers\"]\n",
    "df = pd.DataFrame(zip(context, questions, answers), columns=col)\n",
    "df.to_csv('Q&A.csv', index=False)"
   ]
  },
  {
   "cell_type": "code",
   "execution_count": 141,
   "metadata": {},
   "outputs": [],
   "source": [
    "df = pd.read_csv(\"Q&A.csv\")"
   ]
  },
  {
   "cell_type": "markdown",
   "metadata": {},
   "source": [
    "## And this is a final results!"
   ]
  },
  {
   "cell_type": "code",
   "execution_count": 142,
   "metadata": {},
   "outputs": [
    {
     "data": {
      "text/html": [
       "<div>\n",
       "<style scoped>\n",
       "    .dataframe tbody tr th:only-of-type {\n",
       "        vertical-align: middle;\n",
       "    }\n",
       "\n",
       "    .dataframe tbody tr th {\n",
       "        vertical-align: top;\n",
       "    }\n",
       "\n",
       "    .dataframe thead th {\n",
       "        text-align: right;\n",
       "    }\n",
       "</style>\n",
       "<table border=\"1\" class=\"dataframe\">\n",
       "  <thead>\n",
       "    <tr style=\"text-align: right;\">\n",
       "      <th></th>\n",
       "      <th>context</th>\n",
       "      <th>questions</th>\n",
       "      <th>answers</th>\n",
       "    </tr>\n",
       "  </thead>\n",
       "  <tbody>\n",
       "    <tr>\n",
       "      <th>0</th>\n",
       "      <td>Citizenship is a \"relationship between an indi...</td>\n",
       "      <td>What is a Citizenship ?</td>\n",
       "      <td>Citizenship is a \"relationship between an indi...</td>\n",
       "    </tr>\n",
       "    <tr>\n",
       "      <th>1</th>\n",
       "      <td>Nutrient budgets offer insight into the balanc...</td>\n",
       "      <td>What is a Nutrient budgeting ?</td>\n",
       "      <td>Nutrient budgets offer insight into the balanc...</td>\n",
       "    </tr>\n",
       "    <tr>\n",
       "      <th>2</th>\n",
       "      <td>Contextual design (CD) is a user-centered desi...</td>\n",
       "      <td>What is a Contextual design ?</td>\n",
       "      <td>Contextual design (CD) is a user-centered desi...</td>\n",
       "    </tr>\n",
       "    <tr>\n",
       "      <th>3</th>\n",
       "      <td>Progeny Testing is a test of the value for sel...</td>\n",
       "      <td>What is a Progeny testing ?</td>\n",
       "      <td>Progeny Testing is a test of the value for sel...</td>\n",
       "    </tr>\n",
       "    <tr>\n",
       "      <th>4</th>\n",
       "      <td>A pin prick attack is an assault on another pe...</td>\n",
       "      <td>What is a Pin prick attack ?</td>\n",
       "      <td>A pin prick attack is an assault on another pe...</td>\n",
       "    </tr>\n",
       "    <tr>\n",
       "      <th>...</th>\n",
       "      <td>...</td>\n",
       "      <td>...</td>\n",
       "      <td>...</td>\n",
       "    </tr>\n",
       "    <tr>\n",
       "      <th>2117</th>\n",
       "      <td>A catch dog is a specially trained dog that is...</td>\n",
       "      <td>What is a Catch dog ?</td>\n",
       "      <td>A catch dog is a specially trained dog that is...</td>\n",
       "    </tr>\n",
       "    <tr>\n",
       "      <th>2118</th>\n",
       "      <td>Irish Transverse Mercator (ITM) is the geograp...</td>\n",
       "      <td>What is a Irish Transverse Mercator ?</td>\n",
       "      <td>Irish Transverse Mercator (ITM) is the geograp...</td>\n",
       "    </tr>\n",
       "    <tr>\n",
       "      <th>2119</th>\n",
       "      <td>Pattern gardening is a method of designing gar...</td>\n",
       "      <td>What is a Pattern gardening ?</td>\n",
       "      <td>Pattern gardening is a method of designing gar...</td>\n",
       "    </tr>\n",
       "    <tr>\n",
       "      <th>2120</th>\n",
       "      <td>Named after a beehive for its honey, honey hol...</td>\n",
       "      <td>What is a Honey hole ?</td>\n",
       "      <td>Named after a beehive for its honey, honey hol...</td>\n",
       "    </tr>\n",
       "    <tr>\n",
       "      <th>2121</th>\n",
       "      <td>Mink Trapping is an American book that details...</td>\n",
       "      <td>What is a Mink Trapping ?</td>\n",
       "      <td>Mink Trapping is an American book that details...</td>\n",
       "    </tr>\n",
       "  </tbody>\n",
       "</table>\n",
       "<p>2122 rows × 3 columns</p>\n",
       "</div>"
      ],
      "text/plain": [
       "                                                context  \\\n",
       "0     Citizenship is a \"relationship between an indi...   \n",
       "1     Nutrient budgets offer insight into the balanc...   \n",
       "2     Contextual design (CD) is a user-centered desi...   \n",
       "3     Progeny Testing is a test of the value for sel...   \n",
       "4     A pin prick attack is an assault on another pe...   \n",
       "...                                                 ...   \n",
       "2117  A catch dog is a specially trained dog that is...   \n",
       "2118  Irish Transverse Mercator (ITM) is the geograp...   \n",
       "2119  Pattern gardening is a method of designing gar...   \n",
       "2120  Named after a beehive for its honey, honey hol...   \n",
       "2121  Mink Trapping is an American book that details...   \n",
       "\n",
       "                                  questions  \\\n",
       "0                   What is a Citizenship ?   \n",
       "1            What is a Nutrient budgeting ?   \n",
       "2             What is a Contextual design ?   \n",
       "3               What is a Progeny testing ?   \n",
       "4              What is a Pin prick attack ?   \n",
       "...                                     ...   \n",
       "2117                  What is a Catch dog ?   \n",
       "2118  What is a Irish Transverse Mercator ?   \n",
       "2119          What is a Pattern gardening ?   \n",
       "2120                 What is a Honey hole ?   \n",
       "2121              What is a Mink Trapping ?   \n",
       "\n",
       "                                                answers  \n",
       "0     Citizenship is a \"relationship between an indi...  \n",
       "1     Nutrient budgets offer insight into the balanc...  \n",
       "2     Contextual design (CD) is a user-centered desi...  \n",
       "3     Progeny Testing is a test of the value for sel...  \n",
       "4     A pin prick attack is an assault on another pe...  \n",
       "...                                                 ...  \n",
       "2117  A catch dog is a specially trained dog that is...  \n",
       "2118  Irish Transverse Mercator (ITM) is the geograp...  \n",
       "2119  Pattern gardening is a method of designing gar...  \n",
       "2120  Named after a beehive for its honey, honey hol...  \n",
       "2121  Mink Trapping is an American book that details...  \n",
       "\n",
       "[2122 rows x 3 columns]"
      ]
     },
     "execution_count": 142,
     "metadata": {},
     "output_type": "execute_result"
    }
   ],
   "source": [
    "df"
   ]
  }
 ],
 "metadata": {
  "kernelspec": {
   "display_name": "Python 3",
   "language": "python",
   "name": "python3"
  },
  "language_info": {
   "codemirror_mode": {
    "name": "ipython",
    "version": 3
   },
   "file_extension": ".py",
   "mimetype": "text/x-python",
   "name": "python",
   "nbconvert_exporter": "python",
   "pygments_lexer": "ipython3",
   "version": "3.8.3"
  }
 },
 "nbformat": 4,
 "nbformat_minor": 4
}
